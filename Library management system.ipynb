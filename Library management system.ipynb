{
 "cells": [
  {
   "cell_type": "code",
   "execution_count": 39,
   "id": "adc0d2bb-1ff3-4f36-92a3-8e4cb0df89c6",
   "metadata": {},
   "outputs": [
    {
     "name": "stdout",
     "output_type": "stream",
     "text": [
      "The number of books are 7 and the names of books are\n",
      "book1\n",
      "The Alchemist\n",
      "Love across the salt desert\n",
      "The fault in our stars\n",
      "book5\n",
      "book6\n",
      "None\n"
     ]
    }
   ],
   "source": [
    "# program which shows how to create a library management system\n",
    "class library:\n",
    "    def __init__(self):\n",
    "        self.books=[]\n",
    "        self.number_of_books=0   \n",
    "    def addbook(self,book):\n",
    "        self.books.append(book)\n",
    "        self.number_of_books=len(self.books)\n",
    "        \n",
    "\n",
    "    \n",
    "    @property    \n",
    "    def showinfo(self):\n",
    "        print (f'The number of books are {self.number_of_books} and the names of books are') \n",
    "        for book in self.books:\n",
    "            print (book)\n",
    "\n",
    "    @showinfo.setter    \n",
    "    def showinfo (self,number):\n",
    "        self.number_of_books =number\n",
    "\n",
    "\n",
    "\n",
    "\n",
    "a=library()\n",
    "a.addbook('book1')\n",
    "a.addbook('The Alchemist')\n",
    "a.addbook('Love across the salt desert')\n",
    "a.addbook('The fault in our stars')\n",
    "a.addbook('book5')\n",
    "a.addbook('book6')\n",
    "a.showinfo= 7\n", # Wrong value entered to see whether setter works or not
    "print (a.showinfo)\n",
    "\n",
    "            \n",
    "        "
   ]
  },
  {
   "cell_type": "code",
   "execution_count": null,
   "id": "511ef8ca-b233-42a2-85f1-f06527fa2174",
   "metadata": {},
   "outputs": [],
   "source": []
  },
  {
   "cell_type": "code",
   "execution_count": null,
   "id": "195586df-81d2-4010-bd8d-962aba0ac02e",
   "metadata": {},
   "outputs": [],
   "source": []
  }
 ],
 "metadata": {
  "kernelspec": {
   "display_name": "Python 3 (ipykernel)",
   "language": "python",
   "name": "python3"
  },
  "language_info": {
   "codemirror_mode": {
    "name": "ipython",
    "version": 3
   },
   "file_extension": ".py",
   "mimetype": "text/x-python",
   "name": "python",
   "nbconvert_exporter": "python",
   "pygments_lexer": "ipython3",
   "version": "3.11.7"
  }
 },
 "nbformat": 4,
 "nbformat_minor": 5
}
